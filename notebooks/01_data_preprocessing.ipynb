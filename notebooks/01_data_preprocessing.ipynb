# Load the dataset
data = pd.read_csv('data/churn.csv')

# Drop non-numeric columns and encode categorical variables
data_encoded = data.drop(columns=['Surname', 'RowNumber', 'CustomerId'])
data_encoded['Geography'] = data_encoded['Geography'].replace({'Germany': 0, 'France': 1, 'Spain': 2})
data_encoded['Gender'] = data_encoded['Gender'].replace({'Female': 0, 'Male': 1})

# Handle any remaining non-numeric values or missing values
data_encoded.dropna(inplace=True)

# Save the preprocessed data
data_encoded.to_csv('data/preprocessed_churn.csv', index=False)
